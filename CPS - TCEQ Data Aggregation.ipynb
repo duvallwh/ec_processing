{
 "cells": [
  {
   "cell_type": "markdown",
   "metadata": {},
   "source": [
    "## TCEQ Data Processing\n",
    "The purpose of this notebook is to aggragate all of the TCEQ data that I have downloaded off of the TCEQ website and save in a csv. The file formats are different during different periods thus various data processing steps are necessary for each time period. \n",
    "\n",
    "Jan and Feb data can be gathered from the two excel files included in the 'tceq_folder'\n",
    "March and April data is available in raw data files identified below. \n",
    "\n",
    "One excel file includes all of Jan and the second half of Feb and the other excel file includes the first half of Feb.\n",
    "\n",
    "<b>TODO:</b> <br/>\n",
    "1. Load data from October and November.\n",
    "1. Develope code to handle downloads from the TCEQ website and files that I have scraped off of the TCEQ website. \n",
    "2. Make uniform graphs to compair sites. \n",
    "3. Plot data on a map."
   ]
  },
  {
   "cell_type": "code",
   "execution_count": 1,
   "metadata": {},
   "outputs": [],
   "source": [
    "import pandas as pd # python library taking the place of the spreadsheet part of excel\n",
    "import matplotlib.pyplot as plt # python library for the graphing part of excel\n",
    "import sys, os"
   ]
  },
  {
   "cell_type": "code",
   "execution_count": 15,
   "metadata": {},
   "outputs": [],
   "source": [
    "tceq_folder = 'C:/Users/duvallwh/Documents/_WeatherProjects/CPS/CPS - Sensor Evaluation/TCEQ'\n",
    "file_list = os.listdir(tceq_folder)\n",
    "file_path = [os.path.join(tceq_folder, x) for x in file_list]\n",
    "excel_files = [x for x in file_path if 'xlsx' in x]"
   ]
  },
  {
   "cell_type": "code",
   "execution_count": 16,
   "metadata": {},
   "outputs": [],
   "source": [
    "# process the excel file with Jan and Feb data\n",
    "ef = pd.ExcelFile(excel_files[1])\n",
    "jan = ef.parse('jan', skiprows=1)\n",
    "feb = ef.parse('feb', skiprows=1)\n",
    "dat_1 = pd.concat([jan, feb])\n",
    "dat_1.rename(columns={'parm':'datetime'}, inplace=True)\n",
    "dat_1['datetime'] = pd.to_datetime(dat_1['datetime'], format=\"%Y-%m-%d %H:%M:%S\", errors='coerce')\n",
    "dat_1.dropna(subset=['datetime'], inplace=True)\n",
    "dat_1.drop(['NOx', 'wd', 'ws'], inplace=True, axis=1)"
   ]
  },
  {
   "cell_type": "code",
   "execution_count": 17,
   "metadata": {},
   "outputs": [],
   "source": [
    "# process the second excel file with the begining of Feb\n",
    "parm_list = ['NO', 'NO2', 'PM25', 'Temp', 'RH']\n",
    "ef = pd.ExcelFile(excel_files[0])\n",
    "full_dat = ef.parse('Ozone', skiprows=4)[['Date', 'TCEQ']]\n",
    "full_dat.rename(columns={'TCEQ':'Ozone'}, inplace=True)\n",
    "for x in parm_list:\n",
    "    dat = ef.parse(x, skiprows=4)[['Date', 'TCEQ']]\n",
    "    dat.rename(columns={'TCEQ':x}, inplace=True)\n",
    "    full_dat = full_dat.merge(dat, on='Date')  \n",
    "# make both columns uniform\n",
    "dat_1.rename(columns={'datetime':'Date', 'rh':'RH', 'temp':'Temp',\n",
    "                     'PM2.5':'PM25', 'ozone':'Ozone'}, inplace=True)\n",
    "dat = pd.concat([dat_1, full_dat])\n",
    "old_dat = dat[dat['Date'].duplicated() == False]"
   ]
  },
  {
   "cell_type": "code",
   "execution_count": 18,
   "metadata": {},
   "outputs": [],
   "source": [
    "del(dat)"
   ]
  },
  {
   "cell_type": "code",
   "execution_count": 21,
   "metadata": {},
   "outputs": [
    {
     "data": {
      "image/png": "[encoded data removed]",
      "text/plain": [
       "<matplotlib.figure.Figure at 0x18122b38>"
      ]
     },
     "metadata": {},
     "output_type": "display_data"
    }
   ],
   "source": [
    "plt.figure(figsize=(15, 5))\n",
    "plt.plot(old_dat['Date'].values, old_dat['Ozone'], 'b.')\n",
    "plt.show()"
   ]
  },
  {
   "cell_type": "code",
   "execution_count": 47,
   "metadata": {},
   "outputs": [
    {
     "data": {
      "text/html": [
       "<div>\n",
       "<style>\n",
       "    .dataframe thead tr:only-child th {\n",
       "        text-align: right;\n",
       "    }\n",
       "\n",
       "    .dataframe thead th {\n",
       "        text-align: left;\n",
       "    }\n",
       "\n",
       "    .dataframe tbody tr th {\n",
       "        vertical-align: top;\n",
       "    }\n",
       "</style>\n",
       "<table border=\"1\" class=\"dataframe\">\n",
       "  <thead>\n",
       "    <tr style=\"text-align: right;\">\n",
       "      <th></th>\n",
       "      <th>Date</th>\n",
       "      <th>NO</th>\n",
       "      <th>NO2</th>\n",
       "      <th>Ozone</th>\n",
       "      <th>PM25</th>\n",
       "      <th>RH</th>\n",
       "      <th>Temp</th>\n",
       "    </tr>\n",
       "  </thead>\n",
       "  <tbody>\n",
       "    <tr>\n",
       "      <th>1</th>\n",
       "      <td>2018-01-01 00:00:00</td>\n",
       "      <td>-0.4</td>\n",
       "      <td>1.4</td>\n",
       "      <td>21.0</td>\n",
       "      <td>4.0</td>\n",
       "      <td>75.2</td>\n",
       "      <td>30.4</td>\n",
       "    </tr>\n",
       "    <tr>\n",
       "      <th>2</th>\n",
       "      <td>2018-01-01 01:00:00</td>\n",
       "      <td>-0.2</td>\n",
       "      <td>1.2</td>\n",
       "      <td>21.0</td>\n",
       "      <td>3.5</td>\n",
       "      <td>76.4</td>\n",
       "      <td>30.2</td>\n",
       "    </tr>\n",
       "    <tr>\n",
       "      <th>3</th>\n",
       "      <td>2018-01-01 02:00:00</td>\n",
       "      <td>0.3</td>\n",
       "      <td>1.2</td>\n",
       "      <td>22.0</td>\n",
       "      <td>5.3</td>\n",
       "      <td>73.1</td>\n",
       "      <td>29.9</td>\n",
       "    </tr>\n",
       "    <tr>\n",
       "      <th>4</th>\n",
       "      <td>2018-01-01 03:00:00</td>\n",
       "      <td>-0.5</td>\n",
       "      <td>1.2</td>\n",
       "      <td>22.0</td>\n",
       "      <td>5.4</td>\n",
       "      <td>70.0</td>\n",
       "      <td>29.4</td>\n",
       "    </tr>\n",
       "    <tr>\n",
       "      <th>5</th>\n",
       "      <td>2018-01-01 04:00:00</td>\n",
       "      <td>0.1</td>\n",
       "      <td>1.4</td>\n",
       "      <td>23.0</td>\n",
       "      <td>4.2</td>\n",
       "      <td>64.3</td>\n",
       "      <td>28.9</td>\n",
       "    </tr>\n",
       "  </tbody>\n",
       "</table>\n",
       "</div>"
      ],
      "text/plain": [
       "                 Date   NO  NO2  Ozone  PM25    RH  Temp\n",
       "1 2018-01-01 00:00:00 -0.4  1.4   21.0   4.0  75.2  30.4\n",
       "2 2018-01-01 01:00:00 -0.2  1.2   21.0   3.5  76.4  30.2\n",
       "3 2018-01-01 02:00:00  0.3  1.2   22.0   5.3  73.1  29.9\n",
       "4 2018-01-01 03:00:00 -0.5  1.2   22.0   5.4  70.0  29.4\n",
       "5 2018-01-01 04:00:00  0.1  1.4   23.0   4.2  64.3  28.9"
      ]
     },
     "execution_count": 47,
     "metadata": {},
     "output_type": "execute_result"
    }
   ],
   "source": [
    "old_dat.head()"
   ]
  },
  {
   "cell_type": "code",
   "execution_count": 30,
   "metadata": {},
   "outputs": [],
   "source": [
    "folder_path = 'C:/Users/duvallwh/Documents/_WeatherProjects/CPS/CPS - Sensor Evaluation/TCEQ'\n",
    "long_files = ['tceq_3.csv', 'tceq_rest_of_3.csv', 'tceq_4.csv', 'tceq_oct.csv', \n",
    "              'tceq_nov.csv']\n",
    "long_files_path = [os.path.join(folder_path, x) for x in long_files]\n",
    "\n",
    "def load_tceq_long(file_path):\n",
    "    \"\"\"Read TCEQ files that have been scraped from the website.\"\"\"\n",
    "    dat = pd.read_csv(file_path,\n",
    "                      dtype={'hour':'object'})\n",
    "    dat['value'] = pd.to_numeric(dat['value'], errors='cource')\n",
    "    dat['datetime'] = dat['date'] + \" \" + dat['hour']  + \":00\"\n",
    "    dat['Date'] = pd.to_datetime(arg=dat.pop('datetime'), format='%Y-%m-%d %H:%M')\n",
    "    return dat\n",
    "    \n"
   ]
  },
  {
   "cell_type": "code",
   "execution_count": 33,
   "metadata": {},
   "outputs": [],
   "source": [
    "new_dat = pd.DataFrame()\n",
    "\n",
    "for file in long_files_path:\n",
    "    dat = load_tceq_long(file)\n",
    "    new_dat = pd.concat([new_dat, dat])\n",
    "    "
   ]
  },
  {
   "cell_type": "code",
   "execution_count": 35,
   "metadata": {},
   "outputs": [],
   "source": [
    "CAMS59 = new_dat[new_dat[\"site\"] == 59]\n",
    "CAMS5004 = new_dat[new_dat[\"site\"] == 5004]\n",
    "# new_dat.drop([], inplace=True, axis=1)"
   ]
  },
  {
   "cell_type": "code",
   "execution_count": 41,
   "metadata": {},
   "outputs": [],
   "source": [
    "parameter_dict = {42601:\"NO\", \n",
    "                  42602:\"NO2\", \n",
    "                  44201:\"Ozone\",\n",
    "                  62101:\"Temp\",\n",
    "                  62201:\"RH\",\n",
    "                  88502:\"PM25\"}"
   ]
  },
  {
   "cell_type": "code",
   "execution_count": 42,
   "metadata": {},
   "outputs": [],
   "source": [
    "cams59 = CAMS59.pivot(index='Date', columns='parameter', values='value')\n",
    "cams5004 = CAMS5004.pivot(index='Date', columns='parameter', values='value')"
   ]
  },
  {
   "cell_type": "code",
   "execution_count": 43,
   "metadata": {},
   "outputs": [],
   "source": [
    "cams5004.rename(columns=parameter_dict, inplace=True)\n",
    "cams59.rename(columns=parameter_dict, inplace=True)"
   ]
  },
  {
   "cell_type": "code",
   "execution_count": 45,
   "metadata": {},
   "outputs": [
    {
     "data": {
      "text/plain": [
       "Index([61103, 61104, 'Temp', 'RH'], dtype='object', name='parameter')"
      ]
     },
     "execution_count": 45,
     "metadata": {},
     "output_type": "execute_result"
    }
   ],
   "source": [
    "cams5004.columns"
   ]
  },
  {
   "cell_type": "code",
   "execution_count": 46,
   "metadata": {},
   "outputs": [],
   "source": [
    "c = list(cams5004.columns)\n",
    "c.remove('RH')\n",
    "cams5004.drop(c, inplace=True, axis=1)"
   ]
  },
  {
   "cell_type": "code",
   "execution_count": 47,
   "metadata": {},
   "outputs": [],
   "source": [
    "# cams59.drop([11100, 61103, 61104], inplace=True, axis=1)\n",
    "cams59['Date'] = cams59.index\n",
    "cams5004['Date'] = cams5004.index"
   ]
  },
  {
   "cell_type": "code",
   "execution_count": 48,
   "metadata": {},
   "outputs": [],
   "source": [
    "new = cams59.merge(cams5004, on=['Date'])"
   ]
  },
  {
   "cell_type": "code",
   "execution_count": 50,
   "metadata": {},
   "outputs": [
    {
     "data": {
      "text/plain": [
       "Index(['NO', 'NO2', 42603, 'Ozone', 'Temp', 'PM25', 'Date', 'RH'], dtype='object', name='parameter')"
      ]
     },
     "execution_count": 50,
     "metadata": {},
     "output_type": "execute_result"
    }
   ],
   "source": [
    "new.columns"
   ]
  },
  {
   "cell_type": "code",
   "execution_count": 49,
   "metadata": {},
   "outputs": [],
   "source": [
    "new.drop([11100, 61103, 61104], inplace=True, axis=1)"
   ]
  },
  {
   "cell_type": "code",
   "execution_count": 51,
   "metadata": {},
   "outputs": [],
   "source": [
    "dat = pd.concat([old_dat, new])"
   ]
  },
  {
   "cell_type": "code",
   "execution_count": 52,
   "metadata": {},
   "outputs": [],
   "source": [
    "dat.to_csv('C:/users/duvallwh/desktop/tceq.csv', index_label=False)"
   ]
  },
  {
   "cell_type": "code",
   "execution_count": null,
   "metadata": {},
   "outputs": [],
   "source": []
  }
 ],
 "metadata": {
  "kernelspec": {
   "display_name": "Python 3",
   "language": "python",
   "name": "python3"
  },
  "language_info": {
   "codemirror_mode": {
    "name": "ipython",
    "version": 3
   },
   "file_extension": ".py",
   "mimetype": "text/x-python",
   "name": "python",
   "nbconvert_exporter": "python",
   "pygments_lexer": "ipython3",
   "version": "3.6.2"
  }
 },
 "nbformat": 4,
 "nbformat_minor": 2
}
